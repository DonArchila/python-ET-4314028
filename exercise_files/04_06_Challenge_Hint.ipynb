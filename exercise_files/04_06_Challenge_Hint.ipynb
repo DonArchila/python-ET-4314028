{
 "cells": [
  {
   "cell_type": "markdown",
   "id": "6a6c3649",
   "metadata": {},
   "source": [
    "## ASCII Art Encoding\n"
   ]
  },
  {
   "cell_type": "markdown",
   "id": "47490f41",
   "metadata": {},
   "source": [
    "### Challenge Hints!"
   ]
  },
  {
   "cell_type": "markdown",
   "id": "a8c64bd5",
   "metadata": {},
   "source": [
    "**Hint 1:** While iterating through each character of a string, we can print out when a string has \"switched\" from one character to another:"
   ]
  },
  {
   "cell_type": "code",
   "execution_count": 2,
   "id": "c3d70033",
   "metadata": {},
   "outputs": [
    {
     "name": "stdout",
     "output_type": "stream",
     "text": [
      "New character is A\n",
      "New character is B\n",
      "New character is C\n"
     ]
    }
   ],
   "source": [
    "stringVal = 'AAAAABBBBBCCCCC'\n",
    "\n",
    "prevChar = None\n",
    "for char in stringVal:\n",
    "    if char != prevChar:\n",
    "        print(f'New character is {char}')\n",
    "    prevChar = char"
   ]
  },
  {
   "cell_type": "markdown",
   "id": "54ce72f7",
   "metadata": {},
   "source": [
    "**Hint 2:** Remember that you can multiply a string by a number!"
   ]
  },
  {
   "cell_type": "code",
   "execution_count": 65,
   "id": "7ab4bd96",
   "metadata": {},
   "outputs": [
    {
     "data": {
      "text/plain": [
       "'AAAAA'"
      ]
     },
     "execution_count": 65,
     "metadata": {},
     "output_type": "execute_result"
    }
   ],
   "source": [
    "'A'*5"
   ]
  },
  {
   "cell_type": "code",
   "execution_count": 66,
   "id": "7777d38e",
   "metadata": {},
   "outputs": [],
   "source": [
    "def encodeString(stringVal):\n",
    "    encoded_list = []\n",
    "    prevChar = None\n",
    "    char_counter = 0\n",
    "    ienc = 0\n",
    "    for char in stringVal:\n",
    "        if char != prevChar:\n",
    "            encoded_list.append(())\n",
    "            ienc += 1\n",
    "            char_counter = 0\n",
    "        prevChar = char\n",
    "        char_counter += 1\n",
    "        encoded_list[ienc-1] = (char, char_counter)\n",
    "    return encoded_list\n",
    "\n",
    "\n",
    "def decodeString(encodedList):\n",
    "    decodedString = \"\"\n",
    "    for item in encodedList:\n",
    "        decodedString = decodedString + item[0]*item[1]\n",
    "    return decodedString"
   ]
  },
  {
   "cell_type": "code",
   "execution_count": 67,
   "id": "c9420020",
   "metadata": {},
   "outputs": [
    {
     "name": "stdout",
     "output_type": "stream",
     "text": [
      "[('A', 5), ('B', 5), ('C', 5)]\n"
     ]
    }
   ],
   "source": [
    "encodedString = encodeString(stringVal)\n",
    "print(encodedString)"
   ]
  },
  {
   "cell_type": "code",
   "execution_count": 68,
   "id": "3eee6256",
   "metadata": {},
   "outputs": [],
   "source": [
    "art = '''\n",
    "\n",
    "                                                                                \n",
    "                                                                                \n",
    "                               %%%%%%%%%%%%%%%%%%%                              \n",
    "                        %%%%%%%%%%%%%%%%%%%%%%%%%%%%%%%%%                       \n",
    "                    %%%%%%%%                         %%%%%%%%                   \n",
    "                %%%%%%%                                   %%%%%%                \n",
    "              %%%%%%                                         %%%%%%             \n",
    "           %%%%%%                                               %%%%%           \n",
    "          %%%%%                                                   %%%%%         \n",
    "        %%%%%                                                       %%%%%       \n",
    "       %%%%                 %%%%%              %%%%%                  %%%%      \n",
    "      %%%%                 %%%%%%%            %%%%%%%                  %%%%     \n",
    "     %%%%                  %%%%%%%            %%%%%%%                   %%%%    \n",
    "    %%%%                   %%%%%%%            %%%%%%%                    %%%%   \n",
    "    %%%%                    %%%%%              %%%%%                     %%%%   \n",
    "   %%%%                                                                   %%%%  \n",
    "   %%%%                                                                   %%%%  \n",
    "   %%%%                                                                   %%%%  \n",
    "   %%%%                                                      %%%%        %%%%   \n",
    "    %%%%       %%%%%%                                        %%%%%       %%%%   \n",
    "    %%%%         %%%%                                       %%%%        %%%%    \n",
    "     %%%%         %%%%                                     %%%%         %%%%    \n",
    "      %%%%         %%%%%                                  %%%%         %%%%     \n",
    "       %%%%%         %%%%%                             %%%%%         %%%%%      \n",
    "        %%%%%          %%%%%%                        %%%%%          %%%%        \n",
    "          %%%%%           %%%%%%%               %%%%%%%           %%%%%         \n",
    "            %%%%%             %%%%%%%%%%%%%%%%%%%%%             %%%%%           \n",
    "              %%%%%%%                                        %%%%%              \n",
    "                 %%%%%%%                                 %%%%%%%                \n",
    "                     %%%%%%%%%                     %%%%%%%%%                    \n",
    "                          %%%%%%%%%%%%%%%%%%%%%%%%%%%%%                         \n",
    "                                   %%%%%%%%%%%%                                 \n",
    "                                                                                \n",
    "                                                                                 \n",
    "\n",
    "'''"
   ]
  },
  {
   "cell_type": "code",
   "execution_count": 69,
   "id": "dec27033",
   "metadata": {},
   "outputs": [],
   "source": [
    "encodedString = encodeString(art)"
   ]
  },
  {
   "cell_type": "code",
   "execution_count": 70,
   "id": "0e8cca0d",
   "metadata": {},
   "outputs": [
    {
     "name": "stdout",
     "output_type": "stream",
     "text": [
      "[('\\n', 2), (' ', 80), ('\\n', 1), (' ', 80), ('\\n', 1), (' ', 31), ('%', 19), (' ', 30), ('\\n', 1), (' ', 24), ('%', 33), (' ', 23), ('\\n', 1), (' ', 20), ('%', 8), (' ', 25), ('%', 8), (' ', 19), ('\\n', 1), (' ', 16), ('%', 7), (' ', 35), ('%', 6), (' ', 16), ('\\n', 1), (' ', 14), ('%', 6), (' ', 41), ('%', 6), (' ', 13), ('\\n', 1), (' ', 11), ('%', 6), (' ', 47), ('%', 5), (' ', 11), ('\\n', 1), (' ', 10), ('%', 5), (' ', 51), ('%', 5), (' ', 9), ('\\n', 1), (' ', 8), ('%', 5), (' ', 55), ('%', 5), (' ', 7), ('\\n', 1), (' ', 7), ('%', 4), (' ', 17), ('%', 5), (' ', 14), ('%', 5), (' ', 18), ('%', 4), (' ', 6), ('\\n', 1), (' ', 6), ('%', 4), (' ', 17), ('%', 7), (' ', 12), ('%', 7), (' ', 18), ('%', 4), (' ', 5), ('\\n', 1), (' ', 5), ('%', 4), (' ', 18), ('%', 7), (' ', 12), ('%', 7), (' ', 19), ('%', 4), (' ', 4), ('\\n', 1), (' ', 4), ('%', 4), (' ', 19), ('%', 7), (' ', 12), ('%', 7), (' ', 20), ('%', 4), (' ', 3), ('\\n', 1), (' ', 4), ('%', 4), (' ', 20), ('%', 5), (' ', 14), ('%', 5), (' ', 21), ('%', 4), (' ', 3), ('\\n', 1), (' ', 3), ('%', 4), (' ', 67), ('%', 4), (' ', 2), ('\\n', 1), (' ', 3), ('%', 4), (' ', 67), ('%', 4), (' ', 2), ('\\n', 1), (' ', 3), ('%', 4), (' ', 67), ('%', 4), (' ', 2), ('\\n', 1), (' ', 3), ('%', 4), (' ', 54), ('%', 4), (' ', 8), ('%', 4), (' ', 3), ('\\n', 1), (' ', 4), ('%', 4), (' ', 7), ('%', 6), (' ', 40), ('%', 5), (' ', 7), ('%', 4), (' ', 3), ('\\n', 1), (' ', 4), ('%', 4), (' ', 9), ('%', 4), (' ', 39), ('%', 4), (' ', 8), ('%', 4), (' ', 4), ('\\n', 1), (' ', 5), ('%', 4), (' ', 9), ('%', 4), (' ', 37), ('%', 4), (' ', 9), ('%', 4), (' ', 4), ('\\n', 1), (' ', 6), ('%', 4), (' ', 9), ('%', 5), (' ', 34), ('%', 4), (' ', 9), ('%', 4), (' ', 5), ('\\n', 1), (' ', 7), ('%', 5), (' ', 9), ('%', 5), (' ', 29), ('%', 5), (' ', 9), ('%', 5), (' ', 6), ('\\n', 1), (' ', 8), ('%', 5), (' ', 10), ('%', 6), (' ', 24), ('%', 5), (' ', 10), ('%', 4), (' ', 8), ('\\n', 1), (' ', 10), ('%', 5), (' ', 11), ('%', 7), (' ', 15), ('%', 7), (' ', 11), ('%', 5), (' ', 9), ('\\n', 1), (' ', 12), ('%', 5), (' ', 13), ('%', 21), (' ', 13), ('%', 5), (' ', 11), ('\\n', 1), (' ', 14), ('%', 7), (' ', 40), ('%', 5), (' ', 14), ('\\n', 1), (' ', 17), ('%', 7), (' ', 33), ('%', 7), (' ', 16), ('\\n', 1), (' ', 21), ('%', 9), (' ', 21), ('%', 9), (' ', 20), ('\\n', 1), (' ', 26), ('%', 29), (' ', 25), ('\\n', 1), (' ', 35), ('%', 12), (' ', 33), ('\\n', 1), (' ', 80), ('\\n', 1), (' ', 81), ('\\n', 2)]\n"
     ]
    }
   ],
   "source": [
    "print(encodedString)"
   ]
  },
  {
   "cell_type": "code",
   "execution_count": 71,
   "id": "942d4ff8",
   "metadata": {},
   "outputs": [
    {
     "name": "stdout",
     "output_type": "stream",
     "text": [
      "\n",
      "\n",
      "                                                                                \n",
      "                                                                                \n",
      "                               %%%%%%%%%%%%%%%%%%%                              \n",
      "                        %%%%%%%%%%%%%%%%%%%%%%%%%%%%%%%%%                       \n",
      "                    %%%%%%%%                         %%%%%%%%                   \n",
      "                %%%%%%%                                   %%%%%%                \n",
      "              %%%%%%                                         %%%%%%             \n",
      "           %%%%%%                                               %%%%%           \n",
      "          %%%%%                                                   %%%%%         \n",
      "        %%%%%                                                       %%%%%       \n",
      "       %%%%                 %%%%%              %%%%%                  %%%%      \n",
      "      %%%%                 %%%%%%%            %%%%%%%                  %%%%     \n",
      "     %%%%                  %%%%%%%            %%%%%%%                   %%%%    \n",
      "    %%%%                   %%%%%%%            %%%%%%%                    %%%%   \n",
      "    %%%%                    %%%%%              %%%%%                     %%%%   \n",
      "   %%%%                                                                   %%%%  \n",
      "   %%%%                                                                   %%%%  \n",
      "   %%%%                                                                   %%%%  \n",
      "   %%%%                                                      %%%%        %%%%   \n",
      "    %%%%       %%%%%%                                        %%%%%       %%%%   \n",
      "    %%%%         %%%%                                       %%%%        %%%%    \n",
      "     %%%%         %%%%                                     %%%%         %%%%    \n",
      "      %%%%         %%%%%                                  %%%%         %%%%     \n",
      "       %%%%%         %%%%%                             %%%%%         %%%%%      \n",
      "        %%%%%          %%%%%%                        %%%%%          %%%%        \n",
      "          %%%%%           %%%%%%%               %%%%%%%           %%%%%         \n",
      "            %%%%%             %%%%%%%%%%%%%%%%%%%%%             %%%%%           \n",
      "              %%%%%%%                                        %%%%%              \n",
      "                 %%%%%%%                                 %%%%%%%                \n",
      "                     %%%%%%%%%                     %%%%%%%%%                    \n",
      "                          %%%%%%%%%%%%%%%%%%%%%%%%%%%%%                         \n",
      "                                   %%%%%%%%%%%%                                 \n",
      "                                                                                \n",
      "                                                                                 \n",
      "\n",
      "\n"
     ]
    }
   ],
   "source": [
    "print(decodeString(encodedString))"
   ]
  },
  {
   "cell_type": "code",
   "execution_count": 74,
   "id": "e1485f53",
   "metadata": {},
   "outputs": [
    {
     "name": "stdout",
     "output_type": "stream",
     "text": [
      "[range(1, 3)]\n"
     ]
    }
   ],
   "source": [
    "print([range(1,3)]\n",
    "      )"
   ]
  },
  {
   "cell_type": "code",
   "execution_count": 84,
   "id": "65fc7361",
   "metadata": {},
   "outputs": [],
   "source": [
    "for i in range(2,int(2**0.5)):print(i)"
   ]
  },
  {
   "cell_type": "code",
   "execution_count": null,
   "id": "2eba5446",
   "metadata": {},
   "outputs": [],
   "source": []
  }
 ],
 "metadata": {
  "kernelspec": {
   "display_name": "base",
   "language": "python",
   "name": "python3"
  },
  "language_info": {
   "codemirror_mode": {
    "name": "ipython",
    "version": 3
   },
   "file_extension": ".py",
   "mimetype": "text/x-python",
   "name": "python",
   "nbconvert_exporter": "python",
   "pygments_lexer": "ipython3",
   "version": "3.10.12"
  }
 },
 "nbformat": 4,
 "nbformat_minor": 5
}
