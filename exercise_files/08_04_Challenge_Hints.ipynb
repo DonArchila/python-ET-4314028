{
 "cells": [
  {
   "cell_type": "markdown",
   "id": "5493bdf7",
   "metadata": {},
   "source": [
    "## Bad Arguments\n"
   ]
  },
  {
   "cell_type": "markdown",
   "id": "7e61d190",
   "metadata": {},
   "source": [
    "### Challenge Hints!\n",
    "\n",
    "**HINT 1:** To be clear, you do need to write your NonIntArgumentException class. I suggest something like:"
   ]
  },
  {
   "cell_type": "code",
   "execution_count": 1,
   "id": "0a0528dc",
   "metadata": {},
   "outputs": [],
   "source": [
    "class NonIntArgumentException(Exception):\n",
    "    pass"
   ]
  },
  {
   "cell_type": "markdown",
   "id": "32f67063",
   "metadata": {},
   "source": [
    "**HINT 2:** Review the example we used in 08_02_HandlingException.ipynb (copied below). How would you modify this to examine the arguments (args) passed into the function before calling the function? \n"
   ]
  },
  {
   "cell_type": "code",
   "execution_count": 2,
   "id": "23429ac0-a013-4d76-aec7-7f069e66bc9d",
   "metadata": {},
   "outputs": [
    {
     "name": "stdout",
     "output_type": "stream",
     "text": [
      "There was a zero division error!\n"
     ]
    }
   ],
   "source": [
    "def handleException(func):\n",
    "    def wrapper(*args):\n",
    "        try:\n",
    "            func(*args)\n",
    "        except TypeError:\n",
    "            print('There was a type error!')\n",
    "        except ZeroDivisionError:\n",
    "            print('There was a zero division error!')\n",
    "        except Exception:\n",
    "            print('There was some sort of error!')\n",
    "    return wrapper\n",
    "\n",
    "@handleException\n",
    "def causeError():\n",
    "    return 1/0\n",
    "\n",
    "causeError()"
   ]
  },
  {
   "cell_type": "markdown",
   "id": "db53f14d",
   "metadata": {},
   "source": [
    "**Hint 3:** Remember that args is just an iterable tuple of arguments. You can examine them like this:"
   ]
  },
  {
   "cell_type": "code",
   "execution_count": 5,
   "id": "e80893e9",
   "metadata": {},
   "outputs": [
    {
     "name": "stdout",
     "output_type": "stream",
     "text": [
      "a is not not an integer!\n"
     ]
    }
   ],
   "source": [
    "args = (1, 2, 3, 'a')\n",
    "\n",
    "for arg in args: \n",
    "    if type(arg) is not int:\n",
    "        print(f'{arg} is not not an integer!')"
   ]
  },
  {
   "cell_type": "code",
   "execution_count": 25,
   "id": "282ad28d",
   "metadata": {},
   "outputs": [],
   "source": [
    "class NonIntArgumentException(Exception):\n",
    "     pass"
   ]
  },
  {
   "cell_type": "code",
   "execution_count": 62,
   "id": "e4f0988b",
   "metadata": {},
   "outputs": [
    {
     "name": "stdout",
     "output_type": "stream",
     "text": [
      "6\n"
     ]
    }
   ],
   "source": [
    "def handleNonIntArguments(func):\n",
    "    def wrapper(*args):\n",
    "        for arg in args: \n",
    "            if type(arg) is not int:\n",
    "                raise NonIntArgumentException()\n",
    "        return func(*args)\n",
    "    return wrapper\n",
    "\n",
    "@handleNonIntArguments\n",
    "def sum(a, b, c):\n",
    "    return a + b + c\n",
    "\n",
    "result = sum(1, 2, 3)\n",
    "print(result)\n"
   ]
  },
  {
   "cell_type": "code",
   "execution_count": 63,
   "id": "18d520b2",
   "metadata": {},
   "outputs": [
    {
     "name": "stdout",
     "output_type": "stream",
     "text": [
      "Hooray!\n"
     ]
    }
   ],
   "source": [
    "try:\n",
    "    result = sum(1, 2, 'a')\n",
    "    print('This should not print out')\n",
    "except NonIntArgumentException as e:\n",
    "    print('Hooray!')"
   ]
  },
  {
   "cell_type": "code",
   "execution_count": 64,
   "id": "7d9f6325",
   "metadata": {},
   "outputs": [
    {
     "name": "stdout",
     "output_type": "stream",
     "text": [
      "Negative argument found. Function will not run.\n",
      "None\n"
     ]
    }
   ],
   "source": [
    "def validate_positive_args(func):\n",
    "    def wrapper(*args):\n",
    "        for arg in args:\n",
    "            if arg < 0:\n",
    "                print(\"Negative argument found. Function will not run.\")\n",
    "                return  # Stop execution here\n",
    "        # The function is not called; it's skipped if conditions are not met\n",
    "    return wrapper\n",
    "\n",
    "@validate_positive_args\n",
    "def add(a, b):\n",
    "    return a + b\n",
    "\n",
    "result = add(1, -2)  # Output: Negative argument found. Function will not run.\n",
    "print(result)  # Output: None"
   ]
  },
  {
   "cell_type": "code",
   "execution_count": 66,
   "id": "61c5bfd5",
   "metadata": {},
   "outputs": [
    {
     "name": "stdout",
     "output_type": "stream",
     "text": [
      "Access Denied: User is not authenticated.\n"
     ]
    }
   ],
   "source": [
    "def require_authentication(func):\n",
    "    def wrapper(*args, **kwargs):\n",
    "        authenticated = False  # Simulate an authentication check\n",
    "        if not authenticated:\n",
    "            print(\"Access Denied: User is not authenticated.\")\n",
    "            return\n",
    "        # The original function is skipped if authentication fails\n",
    "    return wrapper\n",
    "\n",
    "@require_authentication\n",
    "def sensitive_operation():\n",
    "    print(\"Sensitive operation performed!\")\n",
    "\n",
    "sensitive_operation()  # Output: Access Denied: User is not authenticated."
   ]
  }
 ],
 "metadata": {
  "kernelspec": {
   "display_name": "base",
   "language": "python",
   "name": "python3"
  },
  "language_info": {
   "codemirror_mode": {
    "name": "ipython",
    "version": 3
   },
   "file_extension": ".py",
   "mimetype": "text/x-python",
   "name": "python",
   "nbconvert_exporter": "python",
   "pygments_lexer": "ipython3",
   "version": "3.10.12"
  }
 },
 "nbformat": 4,
 "nbformat_minor": 5
}
