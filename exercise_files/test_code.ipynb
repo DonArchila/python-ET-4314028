{
 "cells": [
  {
   "cell_type": "code",
   "execution_count": 20,
   "id": "3459c611-a0a9-4d52-8dba-ea5f33a18e25",
   "metadata": {},
   "outputs": [],
   "source": [
    "word='AABBBAA'"
   ]
  },
  {
   "cell_type": "code",
   "execution_count": 21,
   "id": "97d87a12-a28f-437c-b295-f4b70a79d177",
   "metadata": {
    "scrolled": true
   },
   "outputs": [
    {
     "data": {
      "text/plain": [
       "{'A', 'B', 'C'}"
      ]
     },
     "execution_count": 21,
     "metadata": {},
     "output_type": "execute_result"
    }
   ],
   "source": [
    "set(word)"
   ]
  },
  {
   "cell_type": "code",
   "execution_count": null,
   "id": "763471f4-ecd7-48ec-a85e-0ecba7ce83c6",
   "metadata": {},
   "outputs": [],
   "source": []
  },
  {
   "cell_type": "code",
   "execution_count": null,
   "id": "9280b818-a46d-4dce-b7c7-4c573d1e0625",
   "metadata": {},
   "outputs": [],
   "source": []
  },
  {
   "cell_type": "code",
   "execution_count": 5,
   "id": "f8338874-e30f-42c0-8323-0f5df1befe3e",
   "metadata": {},
   "outputs": [
    {
     "name": "stdout",
     "output_type": "stream",
     "text": [
      "A\n",
      "A\n",
      "B\n",
      "B\n",
      "B\n",
      "C\n",
      "C\n",
      "C\n",
      "C\n"
     ]
    }
   ],
   "source": [
    "for letter in word:\n",
    "    print(letter)\n"
   ]
  },
  {
   "cell_type": "code",
   "execution_count": 36,
   "id": "12f290cc-5ab0-43e8-b746-539e1fd20670",
   "metadata": {
    "scrolled": true
   },
   "outputs": [
    {
     "data": {
      "text/plain": [
       "['A', 'A', 'B', 'B', 'B', 'C', 'C', 'C', 'C']"
      ]
     },
     "execution_count": 36,
     "metadata": {},
     "output_type": "execute_result"
    }
   ],
   "source": [
    "letters = [letter for letter in word]\n",
    "letters"
   ]
  },
  {
   "cell_type": "code",
   "execution_count": 48,
   "id": "d46128cb-7bf4-4139-be79-483311e3f8ff",
   "metadata": {},
   "outputs": [
    {
     "name": "stdout",
     "output_type": "stream",
     "text": [
      "A\n",
      "A\n",
      "B\n",
      "B\n",
      "B\n",
      "C\n",
      "C\n",
      "C\n"
     ]
    }
   ],
   "source": [
    "for i in range(len(letters)-1):\n",
    "    print(letters[i])"
   ]
  },
  {
   "cell_type": "code",
   "execution_count": 51,
   "id": "567ee6ae-b952-4a12-a729-3db4be4eb8bf",
   "metadata": {},
   "outputs": [
    {
     "name": "stdout",
     "output_type": "stream",
     "text": [
      "A\n",
      "A\n",
      "2\n"
     ]
    }
   ],
   "source": [
    "def letter_counter(letters):\n",
    "    counter = 1\n",
    "    for i in range(len(letters)-1):\n",
    "        #print(letters[i])\n",
    "        #print(letters[i+1])\n",
    "        if letters[i] == letters[i+1]:\n",
    "            counter+=1\n",
    "        return counter\n",
    "print(letter_counter(letters))"
   ]
  },
  {
   "cell_type": "code",
   "execution_count": null,
   "id": "76094441-5e73-42f0-a11e-6dbac1618433",
   "metadata": {},
   "outputs": [],
   "source": [
    "def "
   ]
  },
  {
   "cell_type": "code",
   "execution_count": null,
   "id": "2aaf0ca5-d525-4a17-abde-b62e71728021",
   "metadata": {},
   "outputs": [],
   "source": []
  },
  {
   "cell_type": "code",
   "execution_count": 82,
   "id": "37586212-9272-4218-8a24-f75e56e7d468",
   "metadata": {},
   "outputs": [
    {
     "name": "stdout",
     "output_type": "stream",
     "text": [
      "[('A', 5), ('B', 5), ('C', 3)]\n"
     ]
    }
   ],
   "source": [
    "def encodeString(stringVal):\n",
    "    encoded_list = []\n",
    "    prevChar = None\n",
    "    char_counter = 0\n",
    "    ienc = 0\n",
    "    for char in stringVal:\n",
    "        if char != prevChar:\n",
    "            #print(char)\n",
    "            encoded_list.append((char,char_counter))\n",
    "            ienc += 1\n",
    "            char_counter = 0\n",
    "        prevChar = char\n",
    "        char_counter += 1\n",
    "        encoded_list[ienc-1] = (char, char_counter)\n",
    "    return encoded_list\n",
    "\n",
    "stringVal = 'AAAAABBBBBCCC'\n",
    "\n",
    "print(encodeString(stringVal))\n",
    "    \n",
    "        \n",
    "     \n",
    "    "
   ]
  },
  {
   "cell_type": "code",
   "execution_count": null,
   "id": "2c183eeb-9403-4420-a039-273b455e29c8",
   "metadata": {},
   "outputs": [],
   "source": [
    "[, count(letter)) for letter in word]"
   ]
  }
 ],
 "metadata": {
  "kernelspec": {
   "display_name": "Python 3 (ipykernel)",
   "language": "python",
   "name": "python3"
  },
  "language_info": {
   "codemirror_mode": {
    "name": "ipython",
    "version": 3
   },
   "file_extension": ".py",
   "mimetype": "text/x-python",
   "name": "python",
   "nbconvert_exporter": "python",
   "pygments_lexer": "ipython3",
   "version": "3.10.12"
  }
 },
 "nbformat": 4,
 "nbformat_minor": 5
}
