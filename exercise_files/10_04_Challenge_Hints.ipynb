{
 "cells": [
  {
   "cell_type": "markdown",
   "id": "b8bb2983",
   "metadata": {},
   "source": [
    "## ASCII Art Compression\n"
   ]
  },
  {
   "cell_type": "markdown",
   "id": "a354bdd4",
   "metadata": {},
   "source": [
    "**HINT 1:** Doing something like this will technically meet the requirements of this challenge:"
   ]
  },
  {
   "cell_type": "code",
   "execution_count": 1,
   "id": "312efa3a",
   "metadata": {},
   "outputs": [],
   "source": [
    "import json\n",
    "#json.dumps(encodeString(text))"
   ]
  },
  {
   "cell_type": "markdown",
   "id": "df78ab6f",
   "metadata": {},
   "source": [
    "However, I hope you can find a more efficient compression algorithm than that!"
   ]
  },
  {
   "cell_type": "markdown",
   "id": "8ae1d0ad",
   "metadata": {},
   "source": [
    "**HINT 2:** Writing a list of tuples, there are a lot of instances of \"),(\" and lots of extra quotes and things, which is a lot of characters to devote to where perhaps a single comma would suffice..."
   ]
  },
  {
   "cell_type": "markdown",
   "id": "a13f0f7b",
   "metadata": {},
   "source": [
    "**HINT 3:** If you're looking for a longer challenge, you can look into writing bytes to a file. This is absolutely not necessary, however!"
   ]
  },
  {
   "cell_type": "code",
   "execution_count": 2,
   "id": "0ec1174a",
   "metadata": {},
   "outputs": [],
   "source": [
    "import json\n",
    "from json import JSONDecodeError, JSONEncoder\n",
    "\n",
    "def encodeString(stringVal):\n",
    "    encodedList = []\n",
    "    prevChar = None\n",
    "    count = 0\n",
    "    for char in stringVal:\n",
    "        if prevChar != char and prevChar is not None:\n",
    "            encodedList.append((prevChar, count))\n",
    "            count = 0\n",
    "        prevChar = char\n",
    "        count = count + 1\n",
    "    encodedList.append((prevChar, count))\n",
    "    return encodedList\n",
    "\n",
    "def decodeString(encodedList):\n",
    "    decodedStr = ''\n",
    "    for item in encodedList:\n",
    "        decodedStr = decodedStr + item[0]*item[1]\n",
    "    return decodedStr"
   ]
  },
  {
   "cell_type": "code",
   "execution_count": 3,
   "id": "d4bb1637",
   "metadata": {},
   "outputs": [],
   "source": [
    "\n",
    "def encodeFile(filename, newFilename):\n",
    "    with open(filename, 'r') as f:\n",
    "        data = encodeString(f.read())\n",
    "        #print(data)\n",
    "\n",
    "    data = [f'{char}|{count}' for char,count in data]\n",
    "\n",
    "    with open(newFilename,'a') as nf:\n",
    "        nf.write(\",\".join(data))\n",
    "    \n",
    "    return newFilename"
   ]
  },
  {
   "cell_type": "markdown",
   "id": "375c521b",
   "metadata": {},
   "source": [
    "Just testing below how to turn tuple into string"
   ]
  },
  {
   "cell_type": "code",
   "execution_count": 4,
   "id": "8bed26b1",
   "metadata": {},
   "outputs": [
    {
     "name": "stdout",
     "output_type": "stream",
     "text": [
      "\n",
      "43\n",
      "[('\\n', 43)]\n",
      " 3,b43\n",
      "[' 3', 'b43']\n",
      "[(' ', 3), ('b', 43)]\n",
      "   bbbbbbbbbbbbbbbbbbbbbbbbbbbbbbbbbbbbbbbbbbb\n"
     ]
    }
   ],
   "source": [
    "tuple = (\"\\n\",43)\n",
    "\n",
    "#how to turn tuple into string\n",
    "string = f'{tuple[0]}{tuple[1]}'\n",
    "print(string)\n",
    "\n",
    "#how to turn string back to list with tuple\n",
    "print([(string[0],int(string[1:]))])\n",
    "\n",
    "#this is how you join items from an iterative object like a list.  elements of iterable has to be a string\n",
    "coded = \",\".join([' 3','b43'])\n",
    "print(coded)\n",
    "\n",
    "#this is how you split a joined or delimeted string\n",
    "splited = coded.split(',')\n",
    "print(splited)\n",
    "\n",
    "#this is how you turn a 2-character delimeted string into a list of tuples\n",
    "encoded = [(pair[0], int(pair[1:])) for pair in splited]\n",
    "print(encoded)\n",
    "print(decodeString(encoded))"
   ]
  },
  {
   "cell_type": "code",
   "execution_count": null,
   "id": "c66a0b43",
   "metadata": {},
   "outputs": [],
   "source": []
  },
  {
   "cell_type": "code",
   "execution_count": 5,
   "id": "90342424",
   "metadata": {},
   "outputs": [
    {
     "name": "stdout",
     "output_type": "stream",
     "text": [
      "['\\n1', ' 30', '%19', ' 30', '\\n1', ' 24', '%33', ' 23', '\\n1', ' 20', '%8', ' 25', '%8', ' 19', '\\n1', ' 16', '%7', ' 35', '%6', ' 16', '\\n1', ' 14', '%6', ' 41', '%6', ' 13', '\\n1', ' 11', '%6', ' 47', '%5', ' 11', '\\n1', ' 10', '%5', ' 51', '%5', ' 9', '\\n1', ' 8', '%5', ' 55', '%5', ' 7', '\\n1', ' 7', '%4', ' 17', '%5', ' 14', '%5', ' 18', '%4', ' 6', '\\n1', ' 6', '%4', ' 17', '%7', ' 12', '%7', ' 18', '%4', ' 5', '\\n1', ' 5', '%4', ' 18', '%7', ' 12', '%7', ' 19', '%4', ' 4', '\\n1', ' 4', '%4', ' 19', '%7', ' 12', '%7', ' 20', '%4', ' 3', '\\n1', ' 4', '%4', ' 20', '%5', ' 14', '%5', ' 21', '%4', ' 3', '\\n1', ' 3', '%4', ' 67', '%4', ' 2', '\\n1', ' 3', '%4', ' 67', '%4', ' 2', '\\n1', ' 3', '%4', ' 67', '%4', ' 2', '\\n1', ' 3', '%4', ' 54', '%4', ' 8', '%4', ' 3', '\\n1', ' 4', '%4', ' 7', '%6', ' 40', '%5', ' 7', '%4', ' 3', '\\n1', ' 4', '%4', ' 9', '%4', ' 39', '%4', ' 8', '%4', ' 4', '\\n1', ' 5', '%4', ' 9', '%4', ' 37', '%4', ' 9', '%4', ' 4', '\\n1', ' 6', '%4', ' 9', '%5', ' 34', '%4', ' 9', '%4', ' 5', '\\n1', ' 7', '%5', ' 9', '%5', ' 29', '%5', ' 9', '%5', ' 6', '\\n1', ' 8', '%5', ' 10', '%6', ' 24', '%5', ' 10', '%4', ' 8', '\\n1', ' 10', '%5', ' 11', '%7', ' 15', '%7', ' 11', '%5', ' 9', '\\n1', ' 12', '%5', ' 13', '%21', ' 13', '%5', ' 11', '\\n1', ' 14', '%7', ' 40', '%5', ' 14', '\\n1', ' 17', '%7', ' 33', '%7', ' 16', '\\n1', ' 21', '%9', ' 21', '%9', ' 20', '\\n1', ' 26', '%29', ' 25', '\\n1', ' 35', '%12']\n"
     ]
    }
   ],
   "source": [
    "string = \"\"\"\n",
    "                              %%%%%%%%%%%%%%%%%%%                              \n",
    "                        %%%%%%%%%%%%%%%%%%%%%%%%%%%%%%%%%                       \n",
    "                    %%%%%%%%                         %%%%%%%%                   \n",
    "                %%%%%%%                                   %%%%%%                \n",
    "              %%%%%%                                         %%%%%%             \n",
    "           %%%%%%                                               %%%%%           \n",
    "          %%%%%                                                   %%%%%         \n",
    "        %%%%%                                                       %%%%%       \n",
    "       %%%%                 %%%%%              %%%%%                  %%%%      \n",
    "      %%%%                 %%%%%%%            %%%%%%%                  %%%%     \n",
    "     %%%%                  %%%%%%%            %%%%%%%                   %%%%    \n",
    "    %%%%                   %%%%%%%            %%%%%%%                    %%%%   \n",
    "    %%%%                    %%%%%              %%%%%                     %%%%   \n",
    "   %%%%                                                                   %%%%  \n",
    "   %%%%                                                                   %%%%  \n",
    "   %%%%                                                                   %%%%  \n",
    "   %%%%                                                      %%%%        %%%%   \n",
    "    %%%%       %%%%%%                                        %%%%%       %%%%   \n",
    "    %%%%         %%%%                                       %%%%        %%%%    \n",
    "     %%%%         %%%%                                     %%%%         %%%%    \n",
    "      %%%%         %%%%%                                  %%%%         %%%%     \n",
    "       %%%%%         %%%%%                             %%%%%         %%%%%      \n",
    "        %%%%%          %%%%%%                        %%%%%          %%%%        \n",
    "          %%%%%           %%%%%%%               %%%%%%%           %%%%%         \n",
    "            %%%%%             %%%%%%%%%%%%%%%%%%%%%             %%%%%           \n",
    "              %%%%%%%                                        %%%%%              \n",
    "                 %%%%%%%                                 %%%%%%%                \n",
    "                     %%%%%%%%%                     %%%%%%%%%                    \n",
    "                          %%%%%%%%%%%%%%%%%%%%%%%%%%%%%                         \n",
    "                                   %%%%%%%%%%%%\"\"\"\n",
    "encoded = encodeString(string)\n",
    "\n",
    "data = [f'{char}{count}' for char,count in encoded]\n",
    "print(data)\n",
    "data = ','.join(data)\n",
    "pairs = data.split(',')\n",
    "pairs = [(p[0], int(p[1])) for p in pairs]\n",
    "#pairs\n",
    "#print(decodeString(pairs))"
   ]
  },
  {
   "cell_type": "code",
   "execution_count": 6,
   "id": "3d83a29f",
   "metadata": {},
   "outputs": [],
   "source": [
    "def decodeFile(filename):\n",
    "    with open(filename, 'r') as f:\n",
    "        data = f.read()\n",
    "    pairs = data.split(',')\n",
    "    pairs = [p.split('|') for p in pairs]\n",
    "    pairs = [(pair[0], int(pair[1])) for pair in pairs]\n",
    "    return decodeString(pairs)"
   ]
  },
  {
   "cell_type": "code",
   "execution_count": 7,
   "id": "b5f3e4c3",
   "metadata": {},
   "outputs": [],
   "source": [
    "# clearing new file before testting\n",
    "with open(\"10_04_challenge_art_encoded.txt\", \"w\") as f:\n",
    "    pass  # This will clear the file\n"
   ]
  },
  {
   "cell_type": "code",
   "execution_count": 8,
   "id": "2740024f",
   "metadata": {},
   "outputs": [
    {
     "name": "stdout",
     "output_type": "stream",
     "text": [
      "Original file size: 2396\n",
      "New file size: 958\n"
     ]
    }
   ],
   "source": [
    "import os\n",
    "\n",
    "print(f'Original file size: {os.path.getsize(\"10_04_testfile.txt\")}')\n",
    "\n",
    "encodeFile('10_04_testfile.txt', '10_04_challenge_art_encoded.txt')\n",
    "\n",
    "print(f'New file size: {os.path.getsize(\"10_04_challenge_art_encoded.txt\")}')\n",
    "\n",
    "\n",
    "\n",
    "\n"
   ]
  },
  {
   "cell_type": "code",
   "execution_count": 9,
   "id": "985e9278",
   "metadata": {},
   "outputs": [
    {
     "name": "stdout",
     "output_type": "stream",
     "text": [
      "                               %%%%%%%%%%%%%%%%%%%                              \n",
      "                        %%%%%%%%%%%%%%%%%%%%%%%%%%%%%%%%%                       \n",
      "                    %%%%%%%%                         %%%%%%%%                   \n",
      "                %%%%%%%                                   %%%%%%                \n",
      "              %%%%%%                                         %%%%%%             \n",
      "           %%%%%%                                               %%%%%           \n",
      "          %%%%%                                                   %%%%%         \n",
      "        %%%%%                                                       %%%%%       \n",
      "       %%%%                 %%%%%              %%%%%                  %%%%      \n",
      "      %%%%                 %%%%%%%            %%%%%%%                  %%%%     \n",
      "     %%%%                  %%%%%%%            %%%%%%%                   %%%%    \n",
      "    %%%%                   %%%%%%%            %%%%%%%                    %%%%   \n",
      "    %%%%                    %%%%%              %%%%%                     %%%%   \n",
      "   %%%%                                                                   %%%%  \n",
      "   %%%%                                                                   %%%%  \n",
      "   %%%%                                                                   %%%%  \n",
      "   %%%%                                                      %%%%        %%%%   \n",
      "    %%%%       %%%%%%                                        %%%%%       %%%%   \n",
      "    %%%%         %%%%                                       %%%%        %%%%    \n",
      "     %%%%         %%%%                                     %%%%         %%%%    \n",
      "      %%%%         %%%%%                                  %%%%         %%%%     \n",
      "       %%%%%         %%%%%                             %%%%%         %%%%%      \n",
      "        %%%%%          %%%%%%                        %%%%%          %%%%        \n",
      "          %%%%%           %%%%%%%               %%%%%%%           %%%%%         \n",
      "            %%%%%             %%%%%%%%%%%%%%%%%%%%%             %%%%%           \n",
      "              %%%%%%%                                        %%%%%              \n",
      "                 %%%%%%%                                 %%%%%%%                \n",
      "                     %%%%%%%%%                     %%%%%%%%%                    \n",
      "                          %%%%%%%%%%%%%%%%%%%%%%%%%%%%%                         \n",
      "                                   %%%%%%%%%%%%\n"
     ]
    }
   ],
   "source": [
    "decoded = decodeFile('10_04_challenge_art_encoded.txt')\n",
    "print(decoded)"
   ]
  },
  {
   "cell_type": "markdown",
   "id": "1808a4fa",
   "metadata": {},
   "source": [
    "Now without | to delimit between encoded pairs"
   ]
  },
  {
   "cell_type": "code",
   "execution_count": 10,
   "id": "4746c6e8",
   "metadata": {},
   "outputs": [],
   "source": [
    "def encodeFile(filename, newFilename):\n",
    "    with open(filename, 'r') as f:\n",
    "        #data = encodeString(f.read())\n",
    "        #print(data)\n",
    "        data = f.read()\n",
    "\n",
    "    #data = [f'{char}|{count}' for char,count in data]\n",
    "    #data = [f'{char}{count}' for char,count in data]\n",
    "    pairs = encodeString(data)\n",
    "    pairs = [f'{char}{count}' for char,count in pairs]\n",
    "\n",
    "    with open(newFilename,'a') as nf:\n",
    "        #nf.write(\",\".join(data))\n",
    "        nf.write(\",\".join(pairs))\n",
    "\n",
    "    \n",
    "    return newFilename"
   ]
  },
  {
   "cell_type": "code",
   "execution_count": 11,
   "id": "e3462cf0",
   "metadata": {},
   "outputs": [],
   "source": [
    "def decodeFile(filename):\n",
    "    with open(filename, 'r') as f:\n",
    "        data = f.read()\n",
    "    pairs = data.split(',')\n",
    "    #pairs = [p.split('|') for p in pairs]\n",
    "    #pairs = [(pair[0], int(pair[1])) for pair in pairs]\n",
    "    pairs = [(pair[0], int(pair[1:])) for pair in pairs]\n",
    "\n",
    "    return decodeString(pairs)"
   ]
  },
  {
   "cell_type": "code",
   "execution_count": 12,
   "id": "72719291",
   "metadata": {},
   "outputs": [],
   "source": [
    "# clearing new file before testting\n",
    "with open(\"10_04_challenge_art_encoded.txt\", \"w\") as f:\n",
    "    pass  # This will clear the file\n"
   ]
  },
  {
   "cell_type": "code",
   "execution_count": 13,
   "id": "acd76883",
   "metadata": {},
   "outputs": [
    {
     "name": "stdout",
     "output_type": "stream",
     "text": [
      "Original file size: 2396\n",
      "New file size: 736\n"
     ]
    }
   ],
   "source": [
    "print(f'Original file size: {os.path.getsize(\"10_04_testfile.txt\")}')\n",
    "\n",
    "encodeFile('10_04_testfile.txt', '10_04_challenge_art_encoded.txt')\n",
    "\n",
    "print(f'New file size: {os.path.getsize(\"10_04_challenge_art_encoded.txt\")}')\n"
   ]
  },
  {
   "cell_type": "code",
   "execution_count": 14,
   "id": "4da5a346",
   "metadata": {},
   "outputs": [
    {
     "name": "stdout",
     "output_type": "stream",
     "text": [
      "                               %%%%%%%%%%%%%%%%%%%                              \n",
      "                        %%%%%%%%%%%%%%%%%%%%%%%%%%%%%%%%%                       \n",
      "                    %%%%%%%%                         %%%%%%%%                   \n",
      "                %%%%%%%                                   %%%%%%                \n",
      "              %%%%%%                                         %%%%%%             \n",
      "           %%%%%%                                               %%%%%           \n",
      "          %%%%%                                                   %%%%%         \n",
      "        %%%%%                                                       %%%%%       \n",
      "       %%%%                 %%%%%              %%%%%                  %%%%      \n",
      "      %%%%                 %%%%%%%            %%%%%%%                  %%%%     \n",
      "     %%%%                  %%%%%%%            %%%%%%%                   %%%%    \n",
      "    %%%%                   %%%%%%%            %%%%%%%                    %%%%   \n",
      "    %%%%                    %%%%%              %%%%%                     %%%%   \n",
      "   %%%%                                                                   %%%%  \n",
      "   %%%%                                                                   %%%%  \n",
      "   %%%%                                                                   %%%%  \n",
      "   %%%%                                                      %%%%        %%%%   \n",
      "    %%%%       %%%%%%                                        %%%%%       %%%%   \n",
      "    %%%%         %%%%                                       %%%%        %%%%    \n",
      "     %%%%         %%%%                                     %%%%         %%%%    \n",
      "      %%%%         %%%%%                                  %%%%         %%%%     \n",
      "       %%%%%         %%%%%                             %%%%%         %%%%%      \n",
      "        %%%%%          %%%%%%                        %%%%%          %%%%        \n",
      "          %%%%%           %%%%%%%               %%%%%%%           %%%%%         \n",
      "            %%%%%             %%%%%%%%%%%%%%%%%%%%%             %%%%%           \n",
      "              %%%%%%%                                        %%%%%              \n",
      "                 %%%%%%%                                 %%%%%%%                \n",
      "                     %%%%%%%%%                     %%%%%%%%%                    \n",
      "                          %%%%%%%%%%%%%%%%%%%%%%%%%%%%%                         \n",
      "                                   %%%%%%%%%%%%\n"
     ]
    }
   ],
   "source": [
    "decoded = decodeFile('10_04_challenge_art_encoded.txt')\n",
    "print(decoded)"
   ]
  }
 ],
 "metadata": {
  "kernelspec": {
   "display_name": "base",
   "language": "python",
   "name": "python3"
  },
  "language_info": {
   "codemirror_mode": {
    "name": "ipython",
    "version": 3
   },
   "file_extension": ".py",
   "mimetype": "text/x-python",
   "name": "python",
   "nbconvert_exporter": "python",
   "pygments_lexer": "ipython3",
   "version": "3.10.12"
  }
 },
 "nbformat": 4,
 "nbformat_minor": 5
}
